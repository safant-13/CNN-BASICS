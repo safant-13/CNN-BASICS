{
  "nbformat": 4,
  "nbformat_minor": 0,
  "metadata": {
    "colab": {
      "provenance": [],
      "collapsed_sections": [
        "kmd_mvr1s7_q",
        "EonnF-357Ajl"
      ],
      "gpuType": "T4"
    },
    "kernelspec": {
      "name": "python3",
      "display_name": "Python 3"
    },
    "language_info": {
      "name": "python"
    },
    "accelerator": "GPU"
  },
  "cells": [
    {
      "cell_type": "markdown",
      "source": [
        "# Imports required for training the model"
      ],
      "metadata": {
        "id": "CY_S6p5-jDbB"
      }
    },
    {
      "cell_type": "code",
      "execution_count": 1,
      "metadata": {
        "id": "NN2ugzpjiY1i"
      },
      "outputs": [],
      "source": [
        "import numpy as np                    # For maths, arrays, image manipulation\n",
        "import matplotlib.pyplot as plt       # To visualize doodles/images\n",
        "import json                           # For reading .ndjson/raw data files\n",
        "import tensorflow as tf               # For deep learning (CNN)\n",
        "import os                             # File system access - finding/loading files\n",
        "from sklearn.model_selection import train_test_split   # For splitting data sets\n",
        "from tensorflow.keras import layers, models\n"
      ]
    },
    {
      "cell_type": "markdown",
      "source": [
        "# Here is the sample dataset!\n",
        "Example for cat"
      ],
      "metadata": {
        "id": "_8sb1hNXjRT3"
      }
    },
    {
      "cell_type": "code",
      "source": [
        "# Download one category (e.g. 'cat') as example\n",
        "!wget https://storage.googleapis.com/quickdraw_dataset/full/numpy_bitmap/cat.npy"
      ],
      "metadata": {
        "id": "14b1GNEzjQ76",
        "colab": {
          "base_uri": "https://localhost:8080/"
        },
        "outputId": "626930ad-c36d-4c94-bbce-34527a71176c"
      },
      "execution_count": 2,
      "outputs": [
        {
          "output_type": "stream",
          "name": "stdout",
          "text": [
            "--2025-08-29 12:48:48--  https://storage.googleapis.com/quickdraw_dataset/full/numpy_bitmap/cat.npy\n",
            "Resolving storage.googleapis.com (storage.googleapis.com)... 172.217.0.91, 172.217.12.27, 172.217.15.251, ...\n",
            "Connecting to storage.googleapis.com (storage.googleapis.com)|172.217.0.91|:443... connected.\n",
            "HTTP request sent, awaiting response... 200 OK\n",
            "Length: 96590448 (92M) [application/octet-stream]\n",
            "Saving to: ‘cat.npy’\n",
            "\n",
            "cat.npy             100%[===================>]  92.12M   101MB/s    in 0.9s    \n",
            "\n",
            "2025-08-29 12:48:49 (101 MB/s) - ‘cat.npy’ saved [96590448/96590448]\n",
            "\n"
          ]
        }
      ]
    },
    {
      "cell_type": "code",
      "source": [
        "cat_images = np.load('cat.npy')\n",
        "print(\"Cat image array shape:\", cat_images.shape)  # Should be (num_samples, 784)\n",
        "print(cat_images[:30])\n",
        "\n",
        "# Visualize\n",
        "plt.imshow(cat_images[0].reshape(28,28), cmap='gray')\n",
        "plt.title(\"Example QuickDraw Cat\")\n",
        "plt.axis('off')\n",
        "plt.show()\n"
      ],
      "metadata": {
        "id": "2IdjjLnBjbzH",
        "colab": {
          "base_uri": "https://localhost:8080/",
          "height": 567
        },
        "outputId": "5d410412-3c90-46df-ef76-7f351d6dd518"
      },
      "execution_count": 3,
      "outputs": [
        {
          "output_type": "stream",
          "name": "stdout",
          "text": [
            "Cat image array shape: (123202, 784)\n",
            "[[0 0 0 ... 0 0 0]\n",
            " [0 0 0 ... 0 0 0]\n",
            " [0 0 0 ... 0 0 0]\n",
            " ...\n",
            " [0 0 0 ... 0 0 0]\n",
            " [0 0 0 ... 0 0 0]\n",
            " [0 0 0 ... 0 0 0]]\n"
          ]
        },
        {
          "output_type": "display_data",
          "data": {
            "text/plain": [
              "<Figure size 640x480 with 1 Axes>"
            ],
            "image/png": "[encoded data removed]"
          },
          "metadata": {}
        }
      ]
    },
    {
      "cell_type": "markdown",
      "source": [
        "# Data - prep\n",
        "We’ll train on 10 categories for speed"
      ],
      "metadata": {
        "id": "_RJkNYcgldC_"
      }
    },
    {
      "cell_type": "code",
      "source": [
        "categories = [\"cat\", \"dog\", \"tree\", \"car\", \"cloud\",\n",
        "              \"house\", \"star\", \"airplane\", \"rainbow\", \"chair\"]\n",
        "\n",
        "\n",
        "# Map category names to numbers\n",
        "label_map = {cat: idx for idx, cat in enumerate(categories)}\n",
        "print(label_map)"
      ],
      "metadata": {
        "colab": {
          "base_uri": "https://localhost:8080/",
          "height": 260
        },
        "id": "9q_V-px0lnRX",
        "outputId": "dd728169-4717-4905-c11d-caa2e36f28f9"
      },
      "execution_count": 17,
      "outputs": [
        {
          "output_type": "stream",
          "name": "stdout",
          "text": [
            "Created 'labels.txt' successfully.\n",
            "\n",
            "File content:\n",
            "cat\n",
            "dog\n",
            "tree\n",
            "car\n",
            "cloud\n",
            "house\n",
            "star\n",
            "airplane\n",
            "rainbow\n",
            "chair\n"
          ]
        },
        {
          "output_type": "display_data",
          "data": {
            "text/plain": [
              "<IPython.core.display.Javascript object>"
            ],
            "application/javascript": [
              "\n",
              "    async function download(id, filename, size) {\n",
              "      if (!google.colab.kernel.accessAllowed) {\n",
              "        return;\n",
              "      }\n",
              "      const div = document.createElement('div');\n",
              "      const label = document.createElement('label');\n",
              "      label.textContent = `Downloading \"${filename}\": `;\n",
              "      div.appendChild(label);\n",
              "      const progress = document.createElement('progress');\n",
              "      progress.max = size;\n",
              "      div.appendChild(progress);\n",
              "      document.body.appendChild(div);\n",
              "\n",
              "      const buffers = [];\n",
              "      let downloaded = 0;\n",
              "\n",
              "      const channel = await google.colab.kernel.comms.open(id);\n",
              "      // Send a message to notify the kernel that we're ready.\n",
              "      channel.send({})\n",
              "\n",
              "      for await (const message of channel.messages) {\n",
              "        // Send a message to notify the kernel that we're ready.\n",
              "        channel.send({})\n",
              "        if (message.buffers) {\n",
              "          for (const buffer of message.buffers) {\n",
              "            buffers.push(buffer);\n",
              "            downloaded += buffer.byteLength;\n",
              "            progress.value = downloaded;\n",
              "          }\n",
              "        }\n",
              "      }\n",
              "      const blob = new Blob(buffers, {type: 'application/binary'});\n",
              "      const a = document.createElement('a');\n",
              "      a.href = window.URL.createObjectURL(blob);\n",
              "      a.download = filename;\n",
              "      div.appendChild(a);\n",
              "      a.click();\n",
              "      div.remove();\n",
              "    }\n",
              "  "
            ]
          },
          "metadata": {}
        },
        {
          "output_type": "display_data",
          "data": {
            "text/plain": [
              "<IPython.core.display.Javascript object>"
            ],
            "application/javascript": [
              "download(\"download_08bc8988-7bfc-4439-b442-3ca855fbc434\", \"labels.txt\", 56)"
            ]
          },
          "metadata": {}
        },
        {
          "output_type": "stream",
          "name": "stdout",
          "text": [
            "{'cat': 0, 'dog': 1, 'tree': 2, 'car': 3, 'cloud': 4, 'house': 5, 'star': 6, 'airplane': 7, 'rainbow': 8, 'chair': 9}\n"
          ]
        }
      ]
    },
    {
      "cell_type": "markdown",
      "source": [
        "Download & Load"
      ],
      "metadata": {
        "id": "ebV1g-K6l2kF"
      }
    },
    {
      "cell_type": "code",
      "source": [
        "all_images = []\n",
        "all_labels = []\n",
        "\n",
        "for category in categories:\n",
        "    url = f\"https://storage.googleapis.com/quickdraw_dataset/full/numpy_bitmap/{category}.npy\"\n",
        "    filename = f\"{category}.npy\"\n",
        "\n",
        "    # Download only if not already there\n",
        "    if not os.path.exists(filename):\n",
        "        !wget $url -O $filename\n",
        "\n",
        "    # Load numpy array\n",
        "    images = np.load(filename)\n",
        "\n",
        "    # Normalize pixel values [0,255] → [0,1]\n",
        "    images = images.astype(\"float32\") / 255.0\n",
        "\n",
        "    # Limit samples for speed\n",
        "    n_samples = 10000\n",
        "    all_images.append(images[:n_samples])\n",
        "    all_labels.append(np.full(n_samples, label_map[category]))\n",
        "\n",
        "    print(f\"{category}: {images.shape[0]} total, using {n_samples}\")\n"
      ],
      "metadata": {
        "id": "7CfBcDPOl35O",
        "colab": {
          "base_uri": "https://localhost:8080/"
        },
        "outputId": "3b9d1723-2782-4877-df24-90ebe2884da7"
      },
      "execution_count": 5,
      "outputs": [
        {
          "output_type": "stream",
          "name": "stdout",
          "text": [
            "cat: 123202 total, using 10000\n",
            "--2025-08-29 12:49:35--  https://storage.googleapis.com/quickdraw_dataset/full/numpy_bitmap/dog.npy\n",
            "Resolving storage.googleapis.com (storage.googleapis.com)... 172.217.0.91, 172.217.12.27, 172.217.15.251, ...\n",
            "Connecting to storage.googleapis.com (storage.googleapis.com)|172.217.0.91|:443... connected.\n",
            "HTTP request sent, awaiting response... 200 OK\n",
            "Length: 119292736 (114M) [application/octet-stream]\n",
            "Saving to: ‘dog.npy’\n",
            "\n",
            "dog.npy             100%[===================>] 113.77M   241MB/s    in 0.5s    \n",
            "\n",
            "2025-08-29 12:49:36 (241 MB/s) - ‘dog.npy’ saved [119292736/119292736]\n",
            "\n",
            "dog: 152159 total, using 10000\n",
            "--2025-08-29 12:49:36--  https://storage.googleapis.com/quickdraw_dataset/full/numpy_bitmap/tree.npy\n",
            "Resolving storage.googleapis.com (storage.googleapis.com)... 172.217.0.91, 172.217.12.27, 172.217.15.251, ...\n",
            "Connecting to storage.googleapis.com (storage.googleapis.com)|172.217.0.91|:443... connected.\n",
            "HTTP request sent, awaiting response... 200 OK\n",
            "Length: 113461344 (108M) [application/octet-stream]\n",
            "Saving to: ‘tree.npy’\n",
            "\n",
            "tree.npy            100%[===================>] 108.21M   159MB/s    in 0.7s    \n",
            "\n",
            "2025-08-29 12:49:37 (159 MB/s) - ‘tree.npy’ saved [113461344/113461344]\n",
            "\n",
            "tree: 144721 total, using 10000\n",
            "--2025-08-29 12:49:38--  https://storage.googleapis.com/quickdraw_dataset/full/numpy_bitmap/car.npy\n",
            "Resolving storage.googleapis.com (storage.googleapis.com)... 172.217.0.91, 172.217.12.27, 172.217.15.251, ...\n",
            "Connecting to storage.googleapis.com (storage.googleapis.com)|172.217.0.91|:443... connected.\n",
            "HTTP request sent, awaiting response... 200 OK\n",
            "Length: 143287056 (137M) [application/octet-stream]\n",
            "Saving to: ‘car.npy’\n",
            "\n",
            "car.npy             100%[===================>] 136.65M   117MB/s    in 1.2s    \n",
            "\n",
            "2025-08-29 12:49:39 (117 MB/s) - ‘car.npy’ saved [143287056/143287056]\n",
            "\n",
            "car: 182764 total, using 10000\n",
            "--2025-08-29 12:49:40--  https://storage.googleapis.com/quickdraw_dataset/full/numpy_bitmap/cloud.npy\n",
            "Resolving storage.googleapis.com (storage.googleapis.com)... 172.217.0.91, 172.217.12.27, 172.217.15.251, ...\n",
            "Connecting to storage.googleapis.com (storage.googleapis.com)|172.217.0.91|:443... connected.\n",
            "HTTP request sent, awaiting response... 200 OK\n",
            "Length: 94287840 (90M) [application/octet-stream]\n",
            "Saving to: ‘cloud.npy’\n",
            "\n",
            "cloud.npy           100%[===================>]  89.92M   105MB/s    in 0.9s    \n",
            "\n",
            "2025-08-29 12:49:41 (105 MB/s) - ‘cloud.npy’ saved [94287840/94287840]\n",
            "\n",
            "cloud: 120265 total, using 10000\n",
            "--2025-08-29 12:49:41--  https://storage.googleapis.com/quickdraw_dataset/full/numpy_bitmap/house.npy\n",
            "Resolving storage.googleapis.com (storage.googleapis.com)... 172.217.0.91, 172.217.12.27, 172.217.15.251, ...\n",
            "Connecting to storage.googleapis.com (storage.googleapis.com)|172.217.0.91|:443... connected.\n",
            "HTTP request sent, awaiting response... 200 OK\n",
            "Length: 106169360 (101M) [application/octet-stream]\n",
            "Saving to: ‘house.npy’\n",
            "\n",
            "house.npy           100%[===================>] 101.25M   205MB/s    in 0.5s    \n",
            "\n",
            "2025-08-29 12:49:42 (205 MB/s) - ‘house.npy’ saved [106169360/106169360]\n",
            "\n",
            "house: 135420 total, using 10000\n",
            "--2025-08-29 12:49:42--  https://storage.googleapis.com/quickdraw_dataset/full/numpy_bitmap/star.npy\n",
            "Resolving storage.googleapis.com (storage.googleapis.com)... 172.217.0.91, 172.217.12.27, 172.217.15.251, ...\n",
            "Connecting to storage.googleapis.com (storage.googleapis.com)|172.217.0.91|:443... connected.\n",
            "HTTP request sent, awaiting response... 200 OK\n",
            "Length: 107893376 (103M) [application/octet-stream]\n",
            "Saving to: ‘star.npy’\n",
            "\n",
            "star.npy            100%[===================>] 102.89M   100MB/s    in 1.0s    \n",
            "\n",
            "2025-08-29 12:49:44 (100 MB/s) - ‘star.npy’ saved [107893376/107893376]\n",
            "\n",
            "star: 137619 total, using 10000\n",
            "--2025-08-29 12:49:44--  https://storage.googleapis.com/quickdraw_dataset/full/numpy_bitmap/airplane.npy\n",
            "Resolving storage.googleapis.com (storage.googleapis.com)... 172.217.0.91, 172.217.12.27, 172.217.15.251, ...\n",
            "Connecting to storage.googleapis.com (storage.googleapis.com)|172.217.0.91|:443... connected.\n",
            "HTTP request sent, awaiting response... 200 OK\n",
            "Length: 118872512 (113M) [application/octet-stream]\n",
            "Saving to: ‘airplane.npy’\n",
            "\n",
            "airplane.npy        100%[===================>] 113.37M   112MB/s    in 1.0s    \n",
            "\n",
            "2025-08-29 12:49:45 (112 MB/s) - ‘airplane.npy’ saved [118872512/118872512]\n",
            "\n",
            "airplane: 151623 total, using 10000\n",
            "--2025-08-29 12:49:46--  https://storage.googleapis.com/quickdraw_dataset/full/numpy_bitmap/rainbow.npy\n",
            "Resolving storage.googleapis.com (storage.googleapis.com)... 172.217.0.91, 172.217.12.27, 172.217.15.251, ...\n",
            "Connecting to storage.googleapis.com (storage.googleapis.com)|172.217.0.91|:443... connected.\n",
            "HTTP request sent, awaiting response... 200 OK\n",
            "Length: 99446560 (95M) [application/octet-stream]\n",
            "Saving to: ‘rainbow.npy’\n",
            "\n",
            "rainbow.npy         100%[===================>]  94.84M   127MB/s    in 0.7s    \n",
            "\n",
            "2025-08-29 12:49:47 (127 MB/s) - ‘rainbow.npy’ saved [99446560/99446560]\n",
            "\n",
            "rainbow: 126845 total, using 10000\n",
            "--2025-08-29 12:49:47--  https://storage.googleapis.com/quickdraw_dataset/full/numpy_bitmap/chair.npy\n",
            "Resolving storage.googleapis.com (storage.googleapis.com)... 172.217.0.91, 172.217.12.27, 172.217.15.251, ...\n",
            "Connecting to storage.googleapis.com (storage.googleapis.com)|172.217.0.91|:443... connected.\n",
            "HTTP request sent, awaiting response... 200 OK\n",
            "Length: 174601584 (167M) [application/octet-stream]\n",
            "Saving to: ‘chair.npy’\n",
            "\n",
            "chair.npy           100%[===================>] 166.51M   137MB/s    in 1.2s    \n",
            "\n",
            "2025-08-29 12:49:49 (137 MB/s) - ‘chair.npy’ saved [174601584/174601584]\n",
            "\n",
            "chair: 222706 total, using 10000\n"
          ]
        }
      ]
    },
    {
      "cell_type": "markdown",
      "source": [
        "Combine and reshape"
      ],
      "metadata": {
        "id": "aVADucRQmNAZ"
      }
    },
    {
      "cell_type": "code",
      "source": [
        "# Combine into one dataset\n",
        "X = np.concatenate(all_images, axis=0)\n",
        "y = np.concatenate(all_labels, axis=0)\n",
        "\n",
        "print(\"Final dataset shape:\", X.shape, y.shape)\n",
        "\n",
        "# Reshape to (28,28,1) for CNN input\n",
        "X = X.reshape(-1, 28, 28, 1)\n",
        "\n",
        "print(\"Reshaped dataset:\", X.shape)\n"
      ],
      "metadata": {
        "colab": {
          "base_uri": "https://localhost:8080/"
        },
        "id": "zqnVP6htmPzg",
        "outputId": "8878d758-cc5d-4c40-cb4a-acda45ea8701"
      },
      "execution_count": 6,
      "outputs": [
        {
          "output_type": "stream",
          "name": "stdout",
          "text": [
            "Final dataset shape: (100000, 784) (100000,)\n",
            "Reshaped dataset: (100000, 28, 28, 1)\n"
          ]
        }
      ]
    },
    {
      "cell_type": "markdown",
      "source": [
        "Train/Test Split"
      ],
      "metadata": {
        "id": "OMsgGTPbmfJl"
      }
    },
    {
      "cell_type": "code",
      "source": [
        "# Split train/test (stratify = keep class balance)\n",
        "X_train, X_test, y_train, y_test = train_test_split(\n",
        "    X, y, test_size=0.2, random_state=42, stratify=y\n",
        ")\n",
        "\n",
        "print(\"Train set:\", X_train.shape, y_train.shape)\n",
        "print(\"Test set:\", X_test.shape, y_test.shape)\n"
      ],
      "metadata": {
        "colab": {
          "base_uri": "https://localhost:8080/"
        },
        "id": "l9bWmJlcmha3",
        "outputId": "4089b2d4-56fa-4098-8941-e871118274fa"
      },
      "execution_count": 7,
      "outputs": [
        {
          "output_type": "stream",
          "name": "stdout",
          "text": [
            "Train set: (80000, 28, 28, 1) (80000,)\n",
            "Test set: (20000, 28, 28, 1) (20000,)\n"
          ]
        }
      ]
    },
    {
      "cell_type": "markdown",
      "source": [
        "Visualize Dataset"
      ],
      "metadata": {
        "id": "TiWTK_r7mvgH"
      }
    },
    {
      "cell_type": "code",
      "source": [
        "# Pick 25 random samples to visualize\n",
        "plt.figure(figsize=(10, 10))\n",
        "for i in range(25):\n",
        "    idx = np.random.randint(0, len(X))\n",
        "    plt.subplot(5, 5, i+1)\n",
        "    plt.imshow(X[idx].reshape(28, 28), cmap=\"gray\")\n",
        "    plt.title(categories[y[idx]])\n",
        "    plt.axis(\"off\")\n",
        "plt.tight_layout()\n",
        "plt.show()"
      ],
      "metadata": {
        "colab": {
          "base_uri": "https://localhost:8080/",
          "height": 1000
        },
        "id": "kpO-hka-mwPl",
        "outputId": "4342d078-ccda-4d33-bd35-999dc5a9d88a"
      },
      "execution_count": 9,
      "outputs": [
        {
          "output_type": "display_data",
          "data": {
            "text/plain": [
              "<Figure size 1000x1000 with 25 Axes>"
            ],
            "image/png": "[encoded data removed]"
          },
          "metadata": {}
        }
      ]
    },
    {
      "cell_type": "markdown",
      "source": [
        "# Basic CNN Model"
      ],
      "metadata": {
        "id": "IEjIrOJKnjNd"
      }
    },
    {
      "cell_type": "code",
      "source": [
        "from tensorflow.keras import layers, models\n",
        "\n",
        "# Define CNN with 3 convolutional layers\n",
        "model = models.Sequential([\n",
        "    layers.Conv2D(32, (3,3), activation=\"relu\", input_shape=(28,28,1)), #learns edges, lines, corners (low-level features).\n",
        "    layers.MaxPooling2D((2,2)),\n",
        "\n",
        "    layers.Conv2D(64, (3,3), activation=\"relu\"), #combines them into shapes/patterns (loops, strokes).\n",
        "    layers.MaxPooling2D((2,2)),\n",
        "\n",
        "    layers.Conv2D(128, (3,3), activation=\"relu\"), #more abstract features (e.g. “cat ear”, “wheel”, “star point”).\n",
        "    layers.MaxPooling2D((2,2)),\n",
        "\n",
        "    layers.Flatten(),\n",
        "    layers.Dense(256, activation=\"relu\"),\n",
        "    layers.Dropout(0.5),\n",
        "    layers.Dense(len(categories), activation=\"softmax\")  # output layer\n",
        "])\n",
        "\n",
        "model.compile(optimizer=\"adam\",\n",
        "              loss=\"sparse_categorical_crossentropy\",\n",
        "              metrics=[\"accuracy\"])\n",
        "\n",
        "model.summary()"
      ],
      "metadata": {
        "colab": {
          "base_uri": "https://localhost:8080/",
          "height": 504
        },
        "id": "xOyox4Ywnl6c",
        "outputId": "03f51cac-ae00-485c-d4e8-875da05de973"
      },
      "execution_count": 10,
      "outputs": [
        {
          "output_type": "stream",
          "name": "stderr",
          "text": [
            "/usr/local/lib/python3.12/dist-packages/keras/src/layers/convolutional/base_conv.py:113: UserWarning: Do not pass an `input_shape`/`input_dim` argument to a layer. When using Sequential models, prefer using an `Input(shape)` object as the first layer in the model instead.\n",
            "  super().__init__(activity_regularizer=activity_regularizer, **kwargs)\n"
          ]
        },
        {
          "output_type": "display_data",
          "data": {
            "text/plain": [
              "\u001b[1mModel: \"sequential\"\u001b[0m\n"
            ],
            "text/html": [
              "<pre style=\"white-space:pre;overflow-x:auto;line-height:normal;font-family:Menlo,'DejaVu Sans Mono',consolas,'Courier New',monospace\"><span style=\"font-weight: bold\">Model: \"sequential\"</span>\n",
              "</pre>\n"
            ]
          },
          "metadata": {}
        },
        {
          "output_type": "display_data",
          "data": {
            "text/plain": [
              "┏━━━━━━━━━━━━━━━━━━━━━━━━━━━━━━━━━┳━━━━━━━━━━━━━━━━━━━━━━━━┳━━━━━━━━━━━━━━━┓\n",
              "┃\u001b[1m \u001b[0m\u001b[1mLayer (type)                   \u001b[0m\u001b[1m \u001b[0m┃\u001b[1m \u001b[0m\u001b[1mOutput Shape          \u001b[0m\u001b[1m \u001b[0m┃\u001b[1m \u001b[0m\u001b[1m      Param #\u001b[0m\u001b[1m \u001b[0m┃\n",
              "┡━━━━━━━━━━━━━━━━━━━━━━━━━━━━━━━━━╇━━━━━━━━━━━━━━━━━━━━━━━━╇━━━━━━━━━━━━━━━┩\n",
              "│ conv2d (\u001b[38;5;33mConv2D\u001b[0m)                 │ (\u001b[38;5;45mNone\u001b[0m, \u001b[38;5;34m26\u001b[0m, \u001b[38;5;34m26\u001b[0m, \u001b[38;5;34m32\u001b[0m)     │           \u001b[38;5;34m320\u001b[0m │\n",
              "├─────────────────────────────────┼────────────────────────┼───────────────┤\n",
              "│ max_pooling2d (\u001b[38;5;33mMaxPooling2D\u001b[0m)    │ (\u001b[38;5;45mNone\u001b[0m, \u001b[38;5;34m13\u001b[0m, \u001b[38;5;34m13\u001b[0m, \u001b[38;5;34m32\u001b[0m)     │             \u001b[38;5;34m0\u001b[0m │\n",
              "├─────────────────────────────────┼────────────────────────┼───────────────┤\n",
              "│ conv2d_1 (\u001b[38;5;33mConv2D\u001b[0m)               │ (\u001b[38;5;45mNone\u001b[0m, \u001b[38;5;34m11\u001b[0m, \u001b[38;5;34m11\u001b[0m, \u001b[38;5;34m64\u001b[0m)     │        \u001b[38;5;34m18,496\u001b[0m │\n",
              "├─────────────────────────────────┼────────────────────────┼───────────────┤\n",
              "│ max_pooling2d_1 (\u001b[38;5;33mMaxPooling2D\u001b[0m)  │ (\u001b[38;5;45mNone\u001b[0m, \u001b[38;5;34m5\u001b[0m, \u001b[38;5;34m5\u001b[0m, \u001b[38;5;34m64\u001b[0m)       │             \u001b[38;5;34m0\u001b[0m │\n",
              "├─────────────────────────────────┼────────────────────────┼───────────────┤\n",
              "│ conv2d_2 (\u001b[38;5;33mConv2D\u001b[0m)               │ (\u001b[38;5;45mNone\u001b[0m, \u001b[38;5;34m3\u001b[0m, \u001b[38;5;34m3\u001b[0m, \u001b[38;5;34m128\u001b[0m)      │        \u001b[38;5;34m73,856\u001b[0m │\n",
              "├─────────────────────────────────┼────────────────────────┼───────────────┤\n",
              "│ max_pooling2d_2 (\u001b[38;5;33mMaxPooling2D\u001b[0m)  │ (\u001b[38;5;45mNone\u001b[0m, \u001b[38;5;34m1\u001b[0m, \u001b[38;5;34m1\u001b[0m, \u001b[38;5;34m128\u001b[0m)      │             \u001b[38;5;34m0\u001b[0m │\n",
              "├─────────────────────────────────┼────────────────────────┼───────────────┤\n",
              "│ flatten (\u001b[38;5;33mFlatten\u001b[0m)               │ (\u001b[38;5;45mNone\u001b[0m, \u001b[38;5;34m128\u001b[0m)            │             \u001b[38;5;34m0\u001b[0m │\n",
              "├─────────────────────────────────┼────────────────────────┼───────────────┤\n",
              "│ dense (\u001b[38;5;33mDense\u001b[0m)                   │ (\u001b[38;5;45mNone\u001b[0m, \u001b[38;5;34m256\u001b[0m)            │        \u001b[38;5;34m33,024\u001b[0m │\n",
              "├─────────────────────────────────┼────────────────────────┼───────────────┤\n",
              "│ dropout (\u001b[38;5;33mDropout\u001b[0m)               │ (\u001b[38;5;45mNone\u001b[0m, \u001b[38;5;34m256\u001b[0m)            │             \u001b[38;5;34m0\u001b[0m │\n",
              "├─────────────────────────────────┼────────────────────────┼───────────────┤\n",
              "│ dense_1 (\u001b[38;5;33mDense\u001b[0m)                 │ (\u001b[38;5;45mNone\u001b[0m, \u001b[38;5;34m10\u001b[0m)             │         \u001b[38;5;34m2,570\u001b[0m │\n",
              "└─────────────────────────────────┴────────────────────────┴───────────────┘\n"
            ],
            "text/html": [
              "<pre style=\"white-space:pre;overflow-x:auto;line-height:normal;font-family:Menlo,'DejaVu Sans Mono',consolas,'Courier New',monospace\">┏━━━━━━━━━━━━━━━━━━━━━━━━━━━━━━━━━┳━━━━━━━━━━━━━━━━━━━━━━━━┳━━━━━━━━━━━━━━━┓\n",
              "┃<span style=\"font-weight: bold\"> Layer (type)                    </span>┃<span style=\"font-weight: bold\"> Output Shape           </span>┃<span style=\"font-weight: bold\">       Param # </span>┃\n",
              "┡━━━━━━━━━━━━━━━━━━━━━━━━━━━━━━━━━╇━━━━━━━━━━━━━━━━━━━━━━━━╇━━━━━━━━━━━━━━━┩\n",
              "│ conv2d (<span style=\"color: #0087ff; text-decoration-color: #0087ff\">Conv2D</span>)                 │ (<span style=\"color: #00d7ff; text-decoration-color: #00d7ff\">None</span>, <span style=\"color: #00af00; text-decoration-color: #00af00\">26</span>, <span style=\"color: #00af00; text-decoration-color: #00af00\">26</span>, <span style=\"color: #00af00; text-decoration-color: #00af00\">32</span>)     │           <span style=\"color: #00af00; text-decoration-color: #00af00\">320</span> │\n",
              "├─────────────────────────────────┼────────────────────────┼───────────────┤\n",
              "│ max_pooling2d (<span style=\"color: #0087ff; text-decoration-color: #0087ff\">MaxPooling2D</span>)    │ (<span style=\"color: #00d7ff; text-decoration-color: #00d7ff\">None</span>, <span style=\"color: #00af00; text-decoration-color: #00af00\">13</span>, <span style=\"color: #00af00; text-decoration-color: #00af00\">13</span>, <span style=\"color: #00af00; text-decoration-color: #00af00\">32</span>)     │             <span style=\"color: #00af00; text-decoration-color: #00af00\">0</span> │\n",
              "├─────────────────────────────────┼────────────────────────┼───────────────┤\n",
              "│ conv2d_1 (<span style=\"color: #0087ff; text-decoration-color: #0087ff\">Conv2D</span>)               │ (<span style=\"color: #00d7ff; text-decoration-color: #00d7ff\">None</span>, <span style=\"color: #00af00; text-decoration-color: #00af00\">11</span>, <span style=\"color: #00af00; text-decoration-color: #00af00\">11</span>, <span style=\"color: #00af00; text-decoration-color: #00af00\">64</span>)     │        <span style=\"color: #00af00; text-decoration-color: #00af00\">18,496</span> │\n",
              "├─────────────────────────────────┼────────────────────────┼───────────────┤\n",
              "│ max_pooling2d_1 (<span style=\"color: #0087ff; text-decoration-color: #0087ff\">MaxPooling2D</span>)  │ (<span style=\"color: #00d7ff; text-decoration-color: #00d7ff\">None</span>, <span style=\"color: #00af00; text-decoration-color: #00af00\">5</span>, <span style=\"color: #00af00; text-decoration-color: #00af00\">5</span>, <span style=\"color: #00af00; text-decoration-color: #00af00\">64</span>)       │             <span style=\"color: #00af00; text-decoration-color: #00af00\">0</span> │\n",
              "├─────────────────────────────────┼────────────────────────┼───────────────┤\n",
              "│ conv2d_2 (<span style=\"color: #0087ff; text-decoration-color: #0087ff\">Conv2D</span>)               │ (<span style=\"color: #00d7ff; text-decoration-color: #00d7ff\">None</span>, <span style=\"color: #00af00; text-decoration-color: #00af00\">3</span>, <span style=\"color: #00af00; text-decoration-color: #00af00\">3</span>, <span style=\"color: #00af00; text-decoration-color: #00af00\">128</span>)      │        <span style=\"color: #00af00; text-decoration-color: #00af00\">73,856</span> │\n",
              "├─────────────────────────────────┼────────────────────────┼───────────────┤\n",
              "│ max_pooling2d_2 (<span style=\"color: #0087ff; text-decoration-color: #0087ff\">MaxPooling2D</span>)  │ (<span style=\"color: #00d7ff; text-decoration-color: #00d7ff\">None</span>, <span style=\"color: #00af00; text-decoration-color: #00af00\">1</span>, <span style=\"color: #00af00; text-decoration-color: #00af00\">1</span>, <span style=\"color: #00af00; text-decoration-color: #00af00\">128</span>)      │             <span style=\"color: #00af00; text-decoration-color: #00af00\">0</span> │\n",
              "├─────────────────────────────────┼────────────────────────┼───────────────┤\n",
              "│ flatten (<span style=\"color: #0087ff; text-decoration-color: #0087ff\">Flatten</span>)               │ (<span style=\"color: #00d7ff; text-decoration-color: #00d7ff\">None</span>, <span style=\"color: #00af00; text-decoration-color: #00af00\">128</span>)            │             <span style=\"color: #00af00; text-decoration-color: #00af00\">0</span> │\n",
              "├─────────────────────────────────┼────────────────────────┼───────────────┤\n",
              "│ dense (<span style=\"color: #0087ff; text-decoration-color: #0087ff\">Dense</span>)                   │ (<span style=\"color: #00d7ff; text-decoration-color: #00d7ff\">None</span>, <span style=\"color: #00af00; text-decoration-color: #00af00\">256</span>)            │        <span style=\"color: #00af00; text-decoration-color: #00af00\">33,024</span> │\n",
              "├─────────────────────────────────┼────────────────────────┼───────────────┤\n",
              "│ dropout (<span style=\"color: #0087ff; text-decoration-color: #0087ff\">Dropout</span>)               │ (<span style=\"color: #00d7ff; text-decoration-color: #00d7ff\">None</span>, <span style=\"color: #00af00; text-decoration-color: #00af00\">256</span>)            │             <span style=\"color: #00af00; text-decoration-color: #00af00\">0</span> │\n",
              "├─────────────────────────────────┼────────────────────────┼───────────────┤\n",
              "│ dense_1 (<span style=\"color: #0087ff; text-decoration-color: #0087ff\">Dense</span>)                 │ (<span style=\"color: #00d7ff; text-decoration-color: #00d7ff\">None</span>, <span style=\"color: #00af00; text-decoration-color: #00af00\">10</span>)             │         <span style=\"color: #00af00; text-decoration-color: #00af00\">2,570</span> │\n",
              "└─────────────────────────────────┴────────────────────────┴───────────────┘\n",
              "</pre>\n"
            ]
          },
          "metadata": {}
        },
        {
          "output_type": "display_data",
          "data": {
            "text/plain": [
              "\u001b[1m Total params: \u001b[0m\u001b[38;5;34m128,266\u001b[0m (501.04 KB)\n"
            ],
            "text/html": [
              "<pre style=\"white-space:pre;overflow-x:auto;line-height:normal;font-family:Menlo,'DejaVu Sans Mono',consolas,'Courier New',monospace\"><span style=\"font-weight: bold\"> Total params: </span><span style=\"color: #00af00; text-decoration-color: #00af00\">128,266</span> (501.04 KB)\n",
              "</pre>\n"
            ]
          },
          "metadata": {}
        },
        {
          "output_type": "display_data",
          "data": {
            "text/plain": [
              "\u001b[1m Trainable params: \u001b[0m\u001b[38;5;34m128,266\u001b[0m (501.04 KB)\n"
            ],
            "text/html": [
              "<pre style=\"white-space:pre;overflow-x:auto;line-height:normal;font-family:Menlo,'DejaVu Sans Mono',consolas,'Courier New',monospace\"><span style=\"font-weight: bold\"> Trainable params: </span><span style=\"color: #00af00; text-decoration-color: #00af00\">128,266</span> (501.04 KB)\n",
              "</pre>\n"
            ]
          },
          "metadata": {}
        },
        {
          "output_type": "display_data",
          "data": {
            "text/plain": [
              "\u001b[1m Non-trainable params: \u001b[0m\u001b[38;5;34m0\u001b[0m (0.00 B)\n"
            ],
            "text/html": [
              "<pre style=\"white-space:pre;overflow-x:auto;line-height:normal;font-family:Menlo,'DejaVu Sans Mono',consolas,'Courier New',monospace\"><span style=\"font-weight: bold\"> Non-trainable params: </span><span style=\"color: #00af00; text-decoration-color: #00af00\">0</span> (0.00 B)\n",
              "</pre>\n"
            ]
          },
          "metadata": {}
        }
      ]
    },
    {
      "cell_type": "markdown",
      "source": [
        "# Transfer learning + data augumentation"
      ],
      "metadata": {
        "id": "kmd_mvr1s7_q"
      }
    },
    {
      "cell_type": "code",
      "source": [
        "# import tensorflow as tf\n",
        "# from tensorflow.keras.applications import MobileNetV2\n",
        "# from tensorflow.keras import layers, models\n",
        "\n",
        "# X_train_rgb = tf.image.grayscale_to_rgb(tf.constant(X_train)).numpy()\n",
        "# X_test_rgb = tf.image.grayscale_to_rgb(tf.constant(X_test)).numpy()\n",
        "\n",
        "# IMG_SIZE = 75\n",
        "# X_train_resized = tf.image.resize(X_train_rgb, (IMG_SIZE, IMG_SIZE)).numpy()\n",
        "# X_test_resized = tf.image.resize(X_test_rgb, (IMG_SIZE, IMG_SIZE)).numpy()\n",
        "\n",
        "# print(\"Original training data shape:\", X_train.shape)\n",
        "# print(\"New resized training data shape:\", X_train_resized.shape)\n",
        "# print(\"-\" * 30)\n",
        "\n",
        "\n",
        "# # --- 2. Build the Transfer Learning Model ---\n",
        "\n",
        "# base_model = MobileNetV2(input_shape=(IMG_SIZE, IMG_SIZE, 3),\n",
        "#                          include_top=False,\n",
        "#                          weights='imagenet')\n",
        "\n",
        "# # Freeze the convolutional base to prevent its weights from changing during training.\n",
        "# base_model.trainable = False\n",
        "\n",
        "# transfer_model = models.Sequential([\n",
        "#     base_model,\n",
        "#     layers.GlobalAveragePooling2D(),\n",
        "#     layers.Dense(128, activation='relu'),\n",
        "#     layers.Dropout(0.3),\n",
        "#     layers.Dense(len(categories), activation='softmax')  # Our output layer\n",
        "# ])\n",
        "\n",
        "# # Compile the model.\n",
        "# transfer_model.compile(optimizer=\"adam\",\n",
        "#                        loss=\"sparse_categorical_crossentropy\",\n",
        "#                        metrics=[\"accuracy\"])\n",
        "\n",
        "# transfer_model.summary()"
      ],
      "metadata": {
        "id": "Ocm7Y0Y5svj6"
      },
      "execution_count": null,
      "outputs": []
    },
    {
      "cell_type": "code",
      "source": [
        "# This can be used to augument the image data addded to the model.fit!\n",
        "\n",
        "\n",
        "#from tensorflow.keras.preprocessing.image import ImageDataGenerator\n",
        "\n",
        "# # Create an ImageDataGenerator for data augmentation\n",
        "# datagen = ImageDataGenerator(\n",
        "#     rotation_range=15,\n",
        "#     width_shift_range=0.1,\n",
        "#     height_shift_range=0.1,\n",
        "#     shear_range=0.1,\n",
        "#     zoom_range=0.1,\n",
        "#     horizontal_flip=False, # Not always useful for doodles, but good to know\n",
        "#     fill_mode='nearest'\n",
        "# )"
      ],
      "metadata": {
        "id": "4xy-OCXV5e0R"
      },
      "execution_count": null,
      "outputs": []
    },
    {
      "cell_type": "markdown",
      "source": [
        "# Train the model"
      ],
      "metadata": {
        "id": "ZL6zT7M4n8FU"
      }
    },
    {
      "cell_type": "code",
      "source": [
        "history = model.fit(\n",
        "    X_train, y_train,\n",
        "    epochs=10,               # enough to see improvement but not too long in class\n",
        "    batch_size=128,          # process 128 doodles at a time\n",
        "    validation_data=(X_test, y_test)\n",
        ")\n",
        "\n",
        "# Transfer learning\n",
        "\n",
        "# history = transfer_model.fit(\n",
        "#     datagen.flow(X_train, y_train, batch_size=128), # transfer learning  + data augumentation!\n",
        "#     epochs=20,\n",
        "#     validation_data=(X_test_resized, y_test)\n",
        "# )\n",
        "\n",
        "# Plot accuracy and loss over time\n",
        "plt.figure(figsize=(12,5))\n",
        "\n",
        "# Accuracy plot\n",
        "plt.subplot(1,2,1)\n",
        "plt.plot(history.history['accuracy'], label=\"Train Accuracy\")\n",
        "plt.plot(history.history['val_accuracy'], label=\"Validation Accuracy\")\n",
        "plt.xlabel(\"Epochs\")\n",
        "plt.ylabel(\"Accuracy\")\n",
        "plt.title(\"Model Accuracy Over Time\")\n",
        "plt.legend()\n",
        "\n",
        "# Loss plot\n",
        "plt.subplot(1,2,2)\n",
        "plt.plot(history.history['loss'], label=\"Train Loss\")\n",
        "plt.plot(history.history['val_loss'], label=\"Validation Loss\")\n",
        "plt.xlabel(\"Epochs\")\n",
        "plt.ylabel(\"Loss\")\n",
        "plt.title(\"Model Loss Over Time\")\n",
        "plt.legend()\n",
        "\n",
        "plt.show()"
      ],
      "metadata": {
        "colab": {
          "base_uri": "https://localhost:8080/",
          "height": 834
        },
        "id": "shsvOz7cn9_e",
        "outputId": "8c9047b2-84d4-42a0-84ea-a16348d2d9d4"
      },
      "execution_count": 11,
      "outputs": [
        {
          "output_type": "stream",
          "name": "stdout",
          "text": [
            "Epoch 1/10\n",
            "\u001b[1m625/625\u001b[0m \u001b[32m━━━━━━━━━━━━━━━━━━━━\u001b[0m\u001b[37m\u001b[0m \u001b[1m72s\u001b[0m 107ms/step - accuracy: 0.6198 - loss: 1.1233 - val_accuracy: 0.8653 - val_loss: 0.4275\n",
            "Epoch 2/10\n",
            "\u001b[1m625/625\u001b[0m \u001b[32m━━━━━━━━━━━━━━━━━━━━\u001b[0m\u001b[37m\u001b[0m \u001b[1m77s\u001b[0m 123ms/step - accuracy: 0.8608 - loss: 0.4378 - val_accuracy: 0.8862 - val_loss: 0.3482\n",
            "Epoch 3/10\n",
            "\u001b[1m625/625\u001b[0m \u001b[32m━━━━━━━━━━━━━━━━━━━━\u001b[0m\u001b[37m\u001b[0m \u001b[1m80s\u001b[0m 128ms/step - accuracy: 0.8896 - loss: 0.3414 - val_accuracy: 0.8993 - val_loss: 0.3022\n",
            "Epoch 4/10\n",
            "\u001b[1m625/625\u001b[0m \u001b[32m━━━━━━━━━━━━━━━━━━━━\u001b[0m\u001b[37m\u001b[0m \u001b[1m68s\u001b[0m 106ms/step - accuracy: 0.9054 - loss: 0.2912 - val_accuracy: 0.9082 - val_loss: 0.2746\n",
            "Epoch 5/10\n",
            "\u001b[1m625/625\u001b[0m \u001b[32m━━━━━━━━━━━━━━━━━━━━\u001b[0m\u001b[37m\u001b[0m \u001b[1m68s\u001b[0m 109ms/step - accuracy: 0.9162 - loss: 0.2571 - val_accuracy: 0.9136 - val_loss: 0.2629\n",
            "Epoch 6/10\n",
            "\u001b[1m625/625\u001b[0m \u001b[32m━━━━━━━━━━━━━━━━━━━━\u001b[0m\u001b[37m\u001b[0m \u001b[1m84s\u001b[0m 134ms/step - accuracy: 0.9229 - loss: 0.2326 - val_accuracy: 0.9112 - val_loss: 0.2708\n",
            "Epoch 7/10\n",
            "\u001b[1m625/625\u001b[0m \u001b[32m━━━━━━━━━━━━━━━━━━━━\u001b[0m\u001b[37m\u001b[0m \u001b[1m138s\u001b[0m 128ms/step - accuracy: 0.9299 - loss: 0.2116 - val_accuracy: 0.9125 - val_loss: 0.2739\n",
            "Epoch 8/10\n",
            "\u001b[1m625/625\u001b[0m \u001b[32m━━━━━━━━━━━━━━━━━━━━\u001b[0m\u001b[37m\u001b[0m \u001b[1m79s\u001b[0m 123ms/step - accuracy: 0.9358 - loss: 0.1943 - val_accuracy: 0.9148 - val_loss: 0.2636\n",
            "Epoch 9/10\n",
            "\u001b[1m625/625\u001b[0m \u001b[32m━━━━━━━━━━━━━━━━━━━━\u001b[0m\u001b[37m\u001b[0m \u001b[1m76s\u001b[0m 121ms/step - accuracy: 0.9408 - loss: 0.1791 - val_accuracy: 0.9141 - val_loss: 0.2732\n",
            "Epoch 10/10\n",
            "\u001b[1m625/625\u001b[0m \u001b[32m━━━━━━━━━━━━━━━━━━━━\u001b[0m\u001b[37m\u001b[0m \u001b[1m66s\u001b[0m 105ms/step - accuracy: 0.9471 - loss: 0.1570 - val_accuracy: 0.9159 - val_loss: 0.2671\n"
          ]
        },
        {
          "output_type": "display_data",
          "data": {
            "text/plain": [
              "<Figure size 1200x500 with 2 Axes>"
            ],
            "image/png": "[encoded data removed]"
          },
          "metadata": {}
        }
      ]
    },
    {
      "cell_type": "markdown",
      "source": [
        "Evaluate & Test Predictions"
      ],
      "metadata": {
        "id": "v64kEZtFoThN"
      }
    },
    {
      "cell_type": "code",
      "source": [
        "# Evaluate on test set\n",
        "class_names = categories\n",
        "test_loss, test_acc = model.evaluate(X_test, y_test, verbose=0)\n",
        "print(f\"Test Accuracy: {test_acc*100:.2f}%\")\n",
        "\n",
        "# Make predictions on a few random samples\n",
        "import random\n",
        "\n",
        "# Pick 5 random test images\n",
        "indices = random.sample(range(len(X_test)), 5)\n",
        "\n",
        "plt.figure(figsize=(12,3))\n",
        "for i, idx in enumerate(indices):\n",
        "    img = X_test[idx].reshape(28,28)\n",
        "    label = y_test[idx]\n",
        "    pred = np.argmax(model.predict(X_test[idx].reshape(1,28,28,1)))\n",
        "\n",
        "    plt.subplot(1,5,i+1)\n",
        "    plt.imshow(img, cmap='gray')\n",
        "    plt.title(f\"Pred: {class_names[pred]}\\nTrue: {class_names[label]}\")\n",
        "    plt.axis('off')\n",
        "plt.show()\n"
      ],
      "metadata": {
        "colab": {
          "base_uri": "https://localhost:8080/",
          "height": 344
        },
        "id": "LJLG_Y_0oUHU",
        "outputId": "cdb388f1-2bd0-40fb-fd43-3fe9a2b5d9e6"
      },
      "execution_count": 15,
      "outputs": [
        {
          "output_type": "stream",
          "name": "stdout",
          "text": [
            "Test Accuracy: 91.59%\n",
            "\u001b[1m1/1\u001b[0m \u001b[32m━━━━━━━━━━━━━━━━━━━━\u001b[0m\u001b[37m\u001b[0m \u001b[1m0s\u001b[0m 38ms/step\n",
            "\u001b[1m1/1\u001b[0m \u001b[32m━━━━━━━━━━━━━━━━━━━━\u001b[0m\u001b[37m\u001b[0m \u001b[1m0s\u001b[0m 37ms/step\n",
            "\u001b[1m1/1\u001b[0m \u001b[32m━━━━━━━━━━━━━━━━━━━━\u001b[0m\u001b[37m\u001b[0m \u001b[1m0s\u001b[0m 38ms/step\n",
            "\u001b[1m1/1\u001b[0m \u001b[32m━━━━━━━━━━━━━━━━━━━━\u001b[0m\u001b[37m\u001b[0m \u001b[1m0s\u001b[0m 42ms/step\n",
            "\u001b[1m1/1\u001b[0m \u001b[32m━━━━━━━━━━━━━━━━━━━━\u001b[0m\u001b[37m\u001b[0m \u001b[1m0s\u001b[0m 37ms/step\n"
          ]
        },
        {
          "output_type": "display_data",
          "data": {
            "text/plain": [
              "<Figure size 1200x300 with 5 Axes>"
            ],
            "image/png": "[encoded data removed]"
          },
          "metadata": {}
        }
      ]
    },
    {
      "cell_type": "markdown",
      "source": [
        "# Sample Testing live"
      ],
      "metadata": {
        "id": "EonnF-357Ajl"
      }
    },
    {
      "cell_type": "code",
      "source": [
        "import gradio as gr\n",
        "\n",
        "def predict_doodle(img):\n",
        "    if img is None:\n",
        "        return \"Please draw something!\"\n",
        "    # If input is dict, use 'composite' image\n",
        "    if isinstance(img, dict):\n",
        "        img = img.get(\"composite\", None)\n",
        "    if img is None:\n",
        "        return \"Please draw something!\"\n",
        "    # Convert the composite PIL Image to grayscale numpy array (already L mode)\n",
        "    img = np.array(img)\n",
        "    # Resize to 28x28 and normalize\n",
        "    img = tf.image.resize(img[..., np.newaxis], (28, 28)).numpy()\n",
        "    img = img / 255.0\n",
        "    # Predict probabilities once\n",
        "    preds = model.predict(img.reshape(1, 28, 28, 1))[0]\n",
        "    # Return label with highest probability\n",
        "    pred_label = class_names[np.argmax(preds)]\n",
        "    return pred_label\n",
        "\n",
        "\n",
        "interface = gr.Interface(\n",
        "    fn=predict_doodle,\n",
        "    inputs=gr.Sketchpad(type=\"pil\", image_mode=\"L\"),\n",
        "    outputs=\"label\",\n",
        "    live=True,\n",
        ")\n",
        "interface.launch(share=True, debug=True)"
      ],
      "metadata": {
        "id": "-Qw-3fHfo6W2"
      },
      "execution_count": null,
      "outputs": []
    },
    {
      "cell_type": "markdown",
      "source": [
        "# Export the model"
      ],
      "metadata": {
        "id": "rUPTO8yY6l6U"
      }
    },
    {
      "cell_type": "markdown",
      "source": [
        "Tf lite export for mobile apps!"
      ],
      "metadata": {
        "id": "9ReUOD1-64YD"
      }
    },
    {
      "cell_type": "code",
      "source": [
        "import tensorflow as tf\n",
        "\n",
        "# Create a TFLiteConverter object from the Keras model.\n",
        "converter = tf.lite.TFLiteConverter.from_keras_model(model)\n",
        "# Optimizee\n",
        "converter.optimizations = [tf.lite.Optimize.DEFAULT]\n",
        "\n",
        "# 3. Convert the model.\n",
        "tflite_model = converter.convert()\n",
        "\n",
        "# 4. Save the converted model to a .tflite file.\n",
        "with open('doodle_model.tflite', 'wb') as f:\n",
        "    f.write(tflite_model)\n",
        "\n",
        "print(\"Successfully converted model to 'doodle_model.tflite'\")\n",
        "print(f\"File size: {len(tflite_model) / 1024:.2f} KB\")\n",
        "\n",
        "# 5. Download the file from Colab to your local machine.\n",
        "from google.colab import files\n",
        "files.download('doodle_model.tflite')"
      ],
      "metadata": {
        "colab": {
          "base_uri": "https://localhost:8080/",
          "height": 347
        },
        "id": "9eFHSt_c6lr6",
        "outputId": "df7ac67b-8590-4eae-d3c0-fe5778140012"
      },
      "execution_count": 16,
      "outputs": [
        {
          "output_type": "stream",
          "name": "stdout",
          "text": [
            "Saved artifact at '/tmp/tmptjjs4tz4'. The following endpoints are available:\n",
            "\n",
            "* Endpoint 'serve'\n",
            "  args_0 (POSITIONAL_ONLY): TensorSpec(shape=(None, 28, 28, 1), dtype=tf.float32, name='keras_tensor')\n",
            "Output Type:\n",
            "  TensorSpec(shape=(None, 10), dtype=tf.float32, name=None)\n",
            "Captures:\n",
            "  132038538416720: TensorSpec(shape=(), dtype=tf.resource, name=None)\n",
            "  132038538417488: TensorSpec(shape=(), dtype=tf.resource, name=None)\n",
            "  132038538419600: TensorSpec(shape=(), dtype=tf.resource, name=None)\n",
            "  132038538418256: TensorSpec(shape=(), dtype=tf.resource, name=None)\n",
            "  132038538419024: TensorSpec(shape=(), dtype=tf.resource, name=None)\n",
            "  132038538420368: TensorSpec(shape=(), dtype=tf.resource, name=None)\n",
            "  132038538416912: TensorSpec(shape=(), dtype=tf.resource, name=None)\n",
            "  132038538418640: TensorSpec(shape=(), dtype=tf.resource, name=None)\n",
            "  132038538420176: TensorSpec(shape=(), dtype=tf.resource, name=None)\n",
            "  132038538421328: TensorSpec(shape=(), dtype=tf.resource, name=None)\n",
            "Successfully converted model to 'doodle_model.tflite'\n",
            "File size: 136.87 KB\n"
          ]
        },
        {
          "output_type": "display_data",
          "data": {
            "text/plain": [
              "<IPython.core.display.Javascript object>"
            ],
            "application/javascript": [
              "\n",
              "    async function download(id, filename, size) {\n",
              "      if (!google.colab.kernel.accessAllowed) {\n",
              "        return;\n",
              "      }\n",
              "      const div = document.createElement('div');\n",
              "      const label = document.createElement('label');\n",
              "      label.textContent = `Downloading \"${filename}\": `;\n",
              "      div.appendChild(label);\n",
              "      const progress = document.createElement('progress');\n",
              "      progress.max = size;\n",
              "      div.appendChild(progress);\n",
              "      document.body.appendChild(div);\n",
              "\n",
              "      const buffers = [];\n",
              "      let downloaded = 0;\n",
              "\n",
              "      const channel = await google.colab.kernel.comms.open(id);\n",
              "      // Send a message to notify the kernel that we're ready.\n",
              "      channel.send({})\n",
              "\n",
              "      for await (const message of channel.messages) {\n",
              "        // Send a message to notify the kernel that we're ready.\n",
              "        channel.send({})\n",
              "        if (message.buffers) {\n",
              "          for (const buffer of message.buffers) {\n",
              "            buffers.push(buffer);\n",
              "            downloaded += buffer.byteLength;\n",
              "            progress.value = downloaded;\n",
              "          }\n",
              "        }\n",
              "      }\n",
              "      const blob = new Blob(buffers, {type: 'application/binary'});\n",
              "      const a = document.createElement('a');\n",
              "      a.href = window.URL.createObjectURL(blob);\n",
              "      a.download = filename;\n",
              "      div.appendChild(a);\n",
              "      a.click();\n",
              "      div.remove();\n",
              "    }\n",
              "  "
            ]
          },
          "metadata": {}
        },
        {
          "output_type": "display_data",
          "data": {
            "text/plain": [
              "<IPython.core.display.Javascript object>"
            ],
            "application/javascript": [
              "download(\"download_7d7399ed-52ef-4a68-84e3-f2be56db67d1\", \"doodle_model.tflite\", 140152)"
            ]
          },
          "metadata": {}
        }
      ]
    },
    {
      "cell_type": "markdown",
      "source": [
        "Tf js export for web apps"
      ],
      "metadata": {
        "id": "vibErJQY7Mop"
      }
    },
    {
      "cell_type": "code",
      "source": [
        "!pip install tensorflowjs\n",
        "\n",
        "import tensorflowjs as tfjs\n",
        "\n",
        "# Define the path where you want to save the model\n",
        "output_path = 'doodle_model_js'\n",
        "\n",
        "# Convert the Keras model (use 'model' or 'transfer_model')\n",
        "tfjs.converters.save_keras_model(model, output_path)\n",
        "\n",
        "print(f\"Model saved for TensorFlow.js in the '{output_path}' directory.\")\n",
        "\n",
        "# To download, first zip the directory, then download the zip file.\n",
        "!zip -r {output_path}.zip {output_path}\n",
        "\n",
        "from google.colab import files\n",
        "files.download(f'{output_path}.zip')\n",
        "\n",
        "# NOTE: It creates a directory named doodle_model_js containing a model.json file (the model architecture) and several .bin files (the weights) these bin are named like shards.smtg1.bin, etc."
      ],
      "metadata": {
        "id": "824zvlMQ7Zmk"
      },
      "execution_count": null,
      "outputs": []
    }
  ]
}